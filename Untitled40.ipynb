{
  "nbformat": 4,
  "nbformat_minor": 0,
  "metadata": {
    "colab": {
      "name": "Untitled40.ipynb",
      "provenance": [],
      "collapsed_sections": [],
      "authorship_tag": "ABX9TyPjbNgyVxTDrK6GwBbmZ1eX",
      "include_colab_link": true
    },
    "kernelspec": {
      "name": "python3",
      "display_name": "Python 3"
    }
  },
  "cells": [
    {
      "cell_type": "markdown",
      "metadata": {
        "id": "view-in-github",
        "colab_type": "text"
      },
      "source": [
        "<a href=\"https://colab.research.google.com/github/anjomnouranika/penildrom1/blob/master/Untitled40.ipynb\" target=\"_parent\"><img src=\"https://colab.research.google.com/assets/colab-badge.svg\" alt=\"Open In Colab\"/></a>"
      ]
    },
    {
      "cell_type": "code",
      "metadata": {
        "id": "8sucYaMJY5uR",
        "colab_type": "code",
        "colab": {
          "base_uri": "https://localhost:8080/",
          "height": 54
        },
        "outputId": "4dd3ebef-0958-4531-ec0f-9bb5ab9c99a4"
      },
      "source": [
        "num = int(input(\"\"))\n",
        "number = num\n",
        "reverse = 0\n",
        "while(num != 0):\n",
        "  reverse = reverse * 10 +(num % 10)\n",
        "  num = num //10\n",
        "if (number == reverse):\n",
        "  print(\" the number is palindrome\")  \n",
        "else:\n",
        "  print(\" the number is not palindrome\")  \n",
        "\n"
      ],
      "execution_count": 2,
      "outputs": [
        {
          "output_type": "stream",
          "text": [
            "121\n",
            " the number is palindrome\n"
          ],
          "name": "stdout"
        }
      ]
    }
  ]
}